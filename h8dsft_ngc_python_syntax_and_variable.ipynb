{
  "nbformat": 4,
  "nbformat_minor": 0,
  "metadata": {
    "colab": {
      "provenance": []
    },
    "kernelspec": {
      "name": "python3",
      "display_name": "Python 3"
    },
    "language_info": {
      "name": "python"
    }
  },
  "cells": [
    {
      "cell_type": "code",
      "execution_count": 4,
      "metadata": {
        "colab": {
          "base_uri": "https://localhost:8080/"
        },
        "id": "pL8FN1250emX",
        "outputId": "b8b596a1-1aa5-4367-ef08-637457df42b7"
      },
      "outputs": [
        {
          "output_type": "stream",
          "name": "stdout",
          "text": [
            "12\n"
          ]
        }
      ],
      "source": [
        "customer_id = [\n",
        "    'B818', 'A461', 'A092', 'A082', 'B341', 'A005', 'A092', 'A461','B219', 'B904', 'A901', 'A083', 'B904', 'A092', 'B341', 'B821','B341', 'B821', 'B904', 'B818',\n",
        "    'A901', 'A083', 'B818', 'A082','B219', 'B219', 'A083', 'A901', 'A082', 'B341', 'B341', 'A083','A082', 'B219', 'B439', 'A461', 'A005', 'A901', 'B341', 'A082',\n",
        "    'A083', 'A461', 'A083', 'A901', 'A461', 'A083', 'A082', 'A083','B341', 'A901', 'A082', 'A461', 'B219', 'A083', 'B818', 'B821','A092', 'B341', 'A461', 'A092',\n",
        "    'A083', 'B821', 'A092'\n",
        "]\n",
        "\n",
        "# ubah tipe data customer_id dari list menjadi set agar value duplikat hilang\n",
        "# kemudian diubah kembali menjadi list dan dihitung total value yang ada di list customer_id sekarang dengan fungsi len\n",
        "print(len(list(set(customer_id))))"
      ]
    },
    {
      "cell_type": "code",
      "source": [
        "data = [1, 4, 9, 16, 25, 36, 49,  64, 81, 100]\n",
        "\n",
        "# soal a cukup ambil data dari index 3\n",
        "# soal b ambil dari range index 5 sampai sebelum 9\n",
        "# soal c ambil dari range index -1 sampai sebelum -11 dengan penambahan index dengan -1\n",
        "print(data[3],'\\n')\n",
        "print(data[5:9],'\\n')\n",
        "print(data[-1:-11:-1])"
      ],
      "metadata": {
        "colab": {
          "base_uri": "https://localhost:8080/"
        },
        "id": "kG2LizoK2eLV",
        "outputId": "b3d2c3bf-fe7f-41e5-cd65-77a2cf1341ff"
      },
      "execution_count": 8,
      "outputs": [
        {
          "output_type": "stream",
          "name": "stdout",
          "text": [
            "16 \n",
            "\n",
            "[36, 49, 64, 81] \n",
            "\n",
            "[100, 81, 64, 49, 36, 25, 16, 9, 4, 1]\n"
          ]
        }
      ]
    },
    {
      "cell_type": "code",
      "source": [
        "provinsi = {\n",
        "    'Nanggroe Aceh Darussalam': 'Aceh',\n",
        "    'Sumatera Selatan': 'Palembang',\n",
        "    'Kalimantan Barat': 'Pontianak',\n",
        "    'Jawa Timur': 'Madiun',\n",
        "    'Sulawesi Selatan': 'Makassar',\n",
        "    'Maluku': 'Ambon'\n",
        "}\n",
        "\n",
        "# soal a cukup gunakan fungsi key kemudian diubah menjadi tipe list agar lebih mudah mengambil value yang diinginkan\n",
        "print(list(provinsi.keys()),'\\n')\n",
        "\n",
        "# soal b cukup panggil key jawa timur dan assign value Surabaya ke dalam key tersebut\n",
        "provinsi['Jawa Timur'] = 'Surabaya'\n",
        "print(provinsi)"
      ],
      "metadata": {
        "colab": {
          "base_uri": "https://localhost:8080/"
        },
        "id": "WwGoVpj7449R",
        "outputId": "e79c3745-e806-4c2e-8091-b879af2408b4"
      },
      "execution_count": 13,
      "outputs": [
        {
          "output_type": "stream",
          "name": "stdout",
          "text": [
            "['Nanggroe Aceh Darussalam', 'Sumatera Selatan', 'Kalimantan Barat', 'Jawa Timur', 'Sulawesi Selatan', 'Maluku'] \n",
            "\n",
            "{'Nanggroe Aceh Darussalam': 'Aceh', 'Sumatera Selatan': 'Palembang', 'Kalimantan Barat': 'Pontianak', 'Jawa Timur': 'Surabaya', 'Sulawesi Selatan': 'Makassar', 'Maluku': 'Ambon'}\n"
          ]
        }
      ]
    }
  ]
}