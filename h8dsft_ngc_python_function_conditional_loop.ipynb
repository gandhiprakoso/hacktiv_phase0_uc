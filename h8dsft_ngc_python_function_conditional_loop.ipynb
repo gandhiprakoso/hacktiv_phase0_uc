{
  "nbformat": 4,
  "nbformat_minor": 0,
  "metadata": {
    "colab": {
      "provenance": []
    },
    "kernelspec": {
      "name": "python3",
      "display_name": "Python 3"
    },
    "language_info": {
      "name": "python"
    }
  },
  "cells": [
    {
      "cell_type": "code",
      "execution_count": null,
      "metadata": {
        "colab": {
          "base_uri": "https://localhost:8080/"
        },
        "id": "yP5041jsDfNC",
        "outputId": "c8253d7d-e386-41de-ed1f-419c51eb94f5"
      },
      "outputs": [
        {
          "output_type": "stream",
          "name": "stdout",
          "text": [
            "Masukan sebuah kalimat : saya pergi ke kantor\n",
            "\n",
            "Total kata yang ada di kalimat tersebut adalah :  4\n"
          ]
        }
      ],
      "source": [
        "# task 1\n",
        "def number_of_word(sentence):\n",
        "  '''fungsi untuk menghitung jumlah kata dalam 1 kalimat, dihitung berdasarkan spasi dalam 1 kalimat'''\n",
        "  split_word = sentence.split()\n",
        "  return split_word\n",
        "\n",
        "# meminta input user\n",
        "print('Masukan sebuah kalimat : ',end='')\n",
        "x = input()\n",
        "\n",
        "# output hasil\n",
        "print('\\nTotal kata yang ada di kalimat tersebut adalah : ', len(number_of_word(x)))"
      ]
    },
    {
      "cell_type": "code",
      "source": [
        "# task 2\n",
        "def find_multiples(start_range,end_range,multiplier):\n",
        "  '''fungsi untuk membuat list angka dari start_range hingga end_range berdasarkan multiplier yang di input user'''\n",
        "\n",
        "  multiples_list = [] # membuat list kosong\n",
        "\n",
        "  for i in range(start_range,end_range+1): # looping berdasarkan start_range & end_range\n",
        "    if i % multiplier == 0:\n",
        "      multiples_list.append(i)\n",
        "\n",
        "  return multiples_list\n",
        "\n",
        "# prompt user untuk input\n",
        "print('Masukan start angka : ')\n",
        "x = input()\n",
        "print('Masukan end angka : ')\n",
        "y = input()\n",
        "print('Masukan multiplier  : ')\n",
        "z = input()\n",
        "\n",
        "print('Hasil angka multiplier adalah : ',find_multiples(int(x),int(y),int(z)))"
      ],
      "metadata": {
        "colab": {
          "base_uri": "https://localhost:8080/"
        },
        "id": "pCjBAqssFwD7",
        "outputId": "8f3705c5-5085-48ff-889e-05a68bd552cb"
      },
      "execution_count": null,
      "outputs": [
        {
          "output_type": "stream",
          "name": "stdout",
          "text": [
            "Masukan start angka : \n",
            "1\n",
            "Masukan end angka : \n",
            "50\n",
            "Masukan multiplier  : \n",
            "10\n",
            "Hasil angka multiplier adalah :  [10, 20, 30, 40, 50]\n"
          ]
        }
      ]
    },
    {
      "cell_type": "code",
      "source": [
        "# task 3\n",
        "\n",
        "# membuat dictionary dan list konversi nilai menjadi letter grade & GPA\n",
        "grade_list = {\n",
        "    'letter_grade' : ['A','B','C','D','E','F'],\n",
        "    'gpa' : [4,3,2.5,2,1.5,1]\n",
        "}\n",
        "\n",
        "def Grade_Converter(convert_to,**student_score):\n",
        "  '''fungsi untuk mengkonversi nilai angka siswa ke dalam bentuk GPA atau letter grade'''\n",
        "\n",
        "  #assign value yang akan dipakai berdasarkan tipe nilai yang di input\n",
        "  grade_checker = grade_list[convert_to]\n",
        "\n",
        "  #looping untuk konversi tiap value yang ada di dalam dictionary\n",
        "  for key, value in student_score.items():\n",
        "    if value >= 85 and value <= 100:\n",
        "      student_score[key] = grade_checker[0]\n",
        "    elif value >= 70 and value < 85:\n",
        "      student_score[key] = grade_checker[1]\n",
        "    elif value >= 60 and value < 70:\n",
        "      student_score[key] = grade_checker[2]\n",
        "    elif value >= 50 and value < 60:\n",
        "      student_score[key] = grade_checker[3]\n",
        "    elif value >= 40 and value < 50:\n",
        "      student_score[key] = grade_checker[4]\n",
        "    elif value >= 0 and value < 40:\n",
        "      student_score[key] = grade_checker[5]\n",
        "\n",
        "  return student_score\n",
        "\n",
        "list_data_siswa = Grade_Converter('gpa',gandhi=98,anto=84,ervan=43)\n",
        "\n",
        "print('Data yang sudah di konversi dapat dilihat disini : ',list_data_siswa)"
      ],
      "metadata": {
        "colab": {
          "base_uri": "https://localhost:8080/"
        },
        "id": "2PlJzxfmNdRm",
        "outputId": "ce76d9bb-27aa-4e18-95d8-0f7aefd2415a"
      },
      "execution_count": null,
      "outputs": [
        {
          "output_type": "stream",
          "name": "stdout",
          "text": [
            "Data yang sudah di konversi dapat dilihat disini :  {'gandhi': 4, 'anto': 3, 'ervan': 1.5}\n"
          ]
        }
      ]
    },
    {
      "cell_type": "code",
      "source": [
        "# task 4\n",
        "\n",
        "def fibonacci_number(n):\n",
        "  '''fitur untuk mengambil angka urutan fibonacci berdasarkan index dari yang diinput user'''\n",
        "  fibonacci_list = [0,1] #membuat default fibonacci list\n",
        "  x = 0 #variabel untuk menampung angka penjumlahan\n",
        "\n",
        "  if(n < 2):\n",
        "    return fibonacci_list[n] #jika index yang dimasukan < 2, maka tidak perlu\n",
        "  else:\n",
        "    for i in range(2,n+1): #jika index yang dimasukan >= 2, maka lakukan perhitungan\n",
        "      x = fibonacci_list[i-1] + fibonacci_list[i-2]\n",
        "      fibonacci_list.append(x)\n",
        "\n",
        "  return fibonacci_list[n]\n",
        "\n",
        "print('masukan index dari angka fibonacci : ')\n",
        "k = input() #input index oleh user\n",
        "\n",
        "print('angka fibonacci dari index adalah : ',fibonacci_number(int(k)))"
      ],
      "metadata": {
        "colab": {
          "base_uri": "https://localhost:8080/"
        },
        "id": "epJ7VuAiWgw7",
        "outputId": "1858039b-8cdb-422b-cc5b-d57630384251"
      },
      "execution_count": 10,
      "outputs": [
        {
          "output_type": "stream",
          "name": "stdout",
          "text": [
            "masukan index dari angka fibonacci\n",
            "6\n",
            "angka fibonacci dari index adalah :  8\n"
          ]
        }
      ]
    }
  ]
}