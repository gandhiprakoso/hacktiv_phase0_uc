{
  "nbformat": 4,
  "nbformat_minor": 0,
  "metadata": {
    "colab": {
      "provenance": []
    },
    "kernelspec": {
      "name": "python3",
      "display_name": "Python 3"
    },
    "language_info": {
      "name": "python"
    }
  },
  "cells": [
    {
      "cell_type": "code",
      "source": [
        "from google.colab import auth\n",
        "from google.cloud import bigquery\n",
        "import pandas as pd"
      ],
      "metadata": {
        "id": "EVzPLUdBi-r3"
      },
      "execution_count": 1,
      "outputs": []
    },
    {
      "cell_type": "code",
      "source": [
        "auth.authenticate_user()\n",
        "project_id = \"test-ungraded-challenge\" # isi project_id masing2 akun google\n",
        "client = bigquery.Client(project=project_id)"
      ],
      "metadata": {
        "id": "wQhhEO_BjCXw"
      },
      "execution_count": 2,
      "outputs": []
    },
    {
      "cell_type": "code",
      "source": [
        "# put your query here\n",
        "query_result_one = \"\"\"\n",
        "    SELECT\n",
        "      count(table_id) as total_table\n",
        "    FROM\n",
        "      `bigquery-public-data.austin_bikeshare`.__TABLES__\n",
        "\"\"\"\n",
        "query_result_two = \"\"\"\n",
        "  SELECT\n",
        "    table_name,\n",
        "    count(if(data_type = 'STRING',column_name,null)) as total_column_with_string\n",
        "  FROM\n",
        "    `bigquery-public-data.austin_bikeshare.INFORMATION_SCHEMA.COLUMNS`\n",
        "  GROUP BY 1\n",
        "\"\"\"\n",
        "\n",
        "query_result_three = \"\"\"\n",
        "  SELECT\n",
        "    bike_id,end_station_name,duration_minutes\n",
        "  FROM\n",
        "    `bigquery-public-data.austin_bikeshare.bikeshare_trips`\n",
        "  WHERE\n",
        "    bike_id is not null\n",
        "  AND\n",
        "    duration_minutes > 1000\n",
        "\"\"\"\n",
        "\n",
        "query_result_four = \"\"\"\n",
        "  SELECT\n",
        "    subscriber_type,end_station_name,duration_minutes\n",
        "  FROM\n",
        "    `bigquery-public-data.austin_bikeshare.bikeshare_trips`\n",
        "  WHERE\n",
        "    subscriber_type = 'Walk Up'\n",
        "  AND\n",
        "    end_station_name = 'Stolen'\n",
        "\n",
        "\"\"\""
      ],
      "metadata": {
        "id": "yu1CYIjKjHi-"
      },
      "execution_count": 58,
      "outputs": []
    },
    {
      "cell_type": "code",
      "source": [
        "# Set up the query\n",
        "query_job_one = client.query(query_result_one).to_dataframe() # masukan data query ke dalam bentuk dataframe\n",
        "output_one = pd.DataFrame(query_job_one) # assign dataframe dari bigquery ke dalam dataframe dari panda\n",
        "list_bar_one = output.values.tolist() # ubah hasil isi dataframe dari panda menjadi list of list\n",
        "print('total table yang ada di dataset bigquery-public-data.austin_bikeshare : ', list_bar_one[0][0])\n",
        "\n",
        "query_job_two = client.query(query_result_two).to_dataframe() # masukan data query ke dalam bentuk dataframe\n",
        "output_two = pd.DataFrame(query_job_two) # assign dataframe dari bigquery ke dalam dataframe dari panda\n",
        "list_bar_two = output_two.values.tolist() # ubah hasil isi dataframe dari panda menjadi list of list\n",
        "for i in list_bar_two :\n",
        "  print('table ',i[0],' memiliki ',i[1],' kolom dengan tipe data string')\n",
        "\n",
        "query_job_three = client.query(query_result_three).to_dataframe() # masukan data query ke dalam bentuk dataframe\n",
        "print('data dengan bike_id yang not null dan duration_minutes > 1000')\n",
        "print(query_job_three)\n",
        "\n",
        "query_job_four = client.query(query_result_four).to_dataframe() # masukan data query ke dalam bentuk dataframe\n",
        "print('data dengan subscriber_type = \"Walk Up\" dan end_station_name = \"Stolen\"')\n",
        "print(query_job_four)\n"
      ],
      "metadata": {
        "colab": {
          "base_uri": "https://localhost:8080/"
        },
        "id": "oM2YkfwdjWnn",
        "outputId": "c2956405-cbd7-4adc-849b-4a57159c60c3"
      },
      "execution_count": 59,
      "outputs": [
        {
          "output_type": "stream",
          "name": "stdout",
          "text": [
            "total table yang ada di dataset bigquery-public-data.austin_bikeshare :  2\n",
            "table  bikeshare_stations  memiliki  7  kolom dengan tipe data string\n",
            "table  bikeshare_trips  memiliki  7  kolom dengan tipe data string\n",
            "data dengan bike_id yang not null dan duration_minutes > 1000\n",
            "     bike_id end_station_name  duration_minutes\n",
            "0       1857           Stolen              3806\n",
            "1       1795           Stolen              2529\n",
            "2        209           Stolen              1016\n",
            "3        874           Stolen              6832\n",
            "4      19127           Stolen              6705\n",
            "...      ...              ...               ...\n",
            "3515   19619  28th/Rio Grande              1036\n",
            "3516   19734         28th/Rio              1165\n",
            "3517    009G         28th/Rio              1047\n",
            "3518   18532         28th/Rio              1191\n",
            "3519   16828  28th/Rio Grande              1122\n",
            "\n",
            "[3520 rows x 3 columns]\n",
            "data dengan subscriber_type = \"Walk Up\" dan end_station_name = \"Stolen\"\n",
            "  subscriber_type end_station_name  duration_minutes\n",
            "0         Walk Up           Stolen              3806\n",
            "1         Walk Up           Stolen              2529\n",
            "2         Walk Up           Stolen              4302\n",
            "3         Walk Up           Stolen              4833\n",
            "4         Walk Up           Stolen              6118\n",
            "5         Walk Up           Stolen              5974\n",
            "6         Walk Up           Stolen              1404\n",
            "7         Walk Up           Stolen              5189\n"
          ]
        }
      ]
    }
  ]
}